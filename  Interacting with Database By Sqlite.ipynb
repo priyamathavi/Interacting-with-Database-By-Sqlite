{
 "cells": [
  {
   "cell_type": "markdown",
   "id": "a630ec17",
   "metadata": {},
   "source": [
    "# Interacting with Database By Sqlite"
   ]
  },
  {
   "cell_type": "code",
   "execution_count": 7,
   "id": "dfdca08b",
   "metadata": {},
   "outputs": [],
   "source": [
    "import sqlite3"
   ]
  },
  {
   "cell_type": "code",
   "execution_count": 8,
   "id": "d1b7af9c",
   "metadata": {},
   "outputs": [],
   "source": [
    "#connect to the database\n",
    "con=sqlite3.connect('myoffice1.db')\n"
   ]
  },
  {
   "cell_type": "code",
   "execution_count": 9,
   "id": "634f7ebd",
   "metadata": {},
   "outputs": [],
   "source": [
    "cursorObj=con.cursor()"
   ]
  },
  {
   "cell_type": "code",
   "execution_count": 10,
   "id": "c851212c",
   "metadata": {},
   "outputs": [],
   "source": [
    "#step:3use the execute method to run sql query\n",
    "#in this example we are going to create a table \n",
    "cursorObj.execute('CREATE TABLE IF NOT EXISTS myoff(rollno INTEGER,name TEXT,gpa INT)')\n",
    "con.commit()\n"
   ]
  },
  {
   "cell_type": "code",
   "execution_count": 11,
   "id": "c75b058c",
   "metadata": {},
   "outputs": [
    {
     "data": {
      "text/plain": [
       "<sqlite3.Cursor at 0x14eb7357bc0>"
      ]
     },
     "execution_count": 11,
     "metadata": {},
     "output_type": "execute_result"
    }
   ],
   "source": [
    "cursorObj.execute('SELECT*FROM myoff')\n"
   ]
  },
  {
   "cell_type": "code",
   "execution_count": null,
   "id": "f0aeca7b",
   "metadata": {},
   "outputs": [],
   "source": [
    "cursorObj.execute('INSERT INTO myoff values(101,\"Ramesh\",9)')"
   ]
  },
  {
   "cell_type": "code",
   "execution_count": 102,
   "id": "2154c568",
   "metadata": {},
   "outputs": [],
   "source": [
    "def insert(r,n,g):\n",
    "    cursorObj.execute('INSERT INTO myoff values(?,?,?)',(r,n,g))\n",
    "    con.commit()\n",
    "    con.close()\n"
   ]
  },
  {
   "cell_type": "code",
   "execution_count": 83,
   "id": "7ed37369",
   "metadata": {},
   "outputs": [],
   "source": [
    "insert(102,\"Suresh\",8.9)"
   ]
  },
  {
   "cell_type": "code",
   "execution_count": 26,
   "id": "2e66b74d",
   "metadata": {},
   "outputs": [],
   "source": [
    "def view():\n",
    "    conn=sqlite3.connect('myoffice1.db')\n",
    "    cur=conn.cursor()\n",
    "    cur.execute('SELECT *FROM myoff')\n",
    "    rows=cur.fetchall()\n",
    "    conn.close()\n",
    "    return rows"
   ]
  },
  {
   "cell_type": "code",
   "execution_count": 73,
   "id": "2e2573ed",
   "metadata": {},
   "outputs": [
    {
     "data": {
      "text/plain": [
       "[(101, 'Ramesh', 9),\n",
       " (102, 'Suresh', 8.9),\n",
       " (101, 'Ramesh', 9),\n",
       " (102, 'Suresh', 8.9),\n",
       " (101, 'Ramesh', 9),\n",
       " (102, 'Suresh', 8.9)]"
      ]
     },
     "execution_count": 73,
     "metadata": {},
     "output_type": "execute_result"
    }
   ],
   "source": [
    "view()"
   ]
  },
  {
   "cell_type": "code",
   "execution_count": 88,
   "id": "2f9908f3",
   "metadata": {},
   "outputs": [],
   "source": [
    "insert(103,'mahesh',9.6)"
   ]
  },
  {
   "cell_type": "code",
   "execution_count": 69,
   "id": "5489743d",
   "metadata": {},
   "outputs": [
    {
     "data": {
      "text/plain": [
       "[(101, 'Ramesh', 9),\n",
       " (102, 'Suresh', 8.9),\n",
       " (101, 'Ramesh', 9),\n",
       " (102, 'Suresh', 8.9),\n",
       " (101, 'Ramesh', 9),\n",
       " (102, 'Suresh', 8.9)]"
      ]
     },
     "execution_count": 69,
     "metadata": {},
     "output_type": "execute_result"
    }
   ],
   "source": [
    "view()"
   ]
  },
  {
   "cell_type": "code",
   "execution_count": 53,
   "id": "95b21d01",
   "metadata": {},
   "outputs": [],
   "source": [
    "def view1(n):\n",
    "    conn=sqlite3.connect('myoffice1.db')\n",
    "    cur=conn.cursor()\n",
    "    cur.execute('SELECT*FROM myoff where gpa>=?',(n,))\n",
    "    rows=cur.fetchall()\n",
    "    conn.close()\n",
    "    return rows"
   ]
  },
  {
   "cell_type": "code",
   "execution_count": 54,
   "id": "7ee7a134",
   "metadata": {},
   "outputs": [
    {
     "data": {
      "text/plain": [
       "[(101, 'Ramesh', 9), (101, 'Ramesh', 9)]"
      ]
     },
     "execution_count": 54,
     "metadata": {},
     "output_type": "execute_result"
    }
   ],
   "source": [
    "view1(9)"
   ]
  },
  {
   "cell_type": "code",
   "execution_count": 12,
   "id": "db7c6678",
   "metadata": {},
   "outputs": [],
   "source": [
    "def view2(n1,n2):\n",
    "    conn=sqlite3.connect('myoffice1.db')\n",
    "    cur=conn.cursor()\n",
    "    cur.execute('SELECT*FROM myoff where gpa>? and gpa<?',(n1,n2))\n",
    "    rows=cur.fetchall()\n",
    "    conn.close()\n",
    "    return rows"
   ]
  },
  {
   "cell_type": "code",
   "execution_count": 97,
   "id": "511b07cf",
   "metadata": {},
   "outputs": [],
   "source": [
    "insert(104,'dinesh',7.2)\n"
   ]
  },
  {
   "cell_type": "code",
   "execution_count": 103,
   "id": "5d06a905",
   "metadata": {},
   "outputs": [],
   "source": [
    "insert(105,'akilesh',9.2)"
   ]
  },
  {
   "cell_type": "code",
   "execution_count": 108,
   "id": "4eae0245",
   "metadata": {},
   "outputs": [
    {
     "data": {
      "text/plain": [
       "[(101, 'Ramesh', 9),\n",
       " (102, 'Suresh', 8.9),\n",
       " (101, 'Ramesh', 9),\n",
       " (102, 'Suresh', 8.9),\n",
       " (101, 'Ramesh', 9),\n",
       " (102, 'Suresh', 8.9),\n",
       " (101, 'Ramesh', 9),\n",
       " (102, 'Suresh', 8.9),\n",
       " (103, 'mahesh', 9.6),\n",
       " (104, 'dinesh', 7.2),\n",
       " (105, 'akilesh', 9.2)]"
      ]
     },
     "execution_count": 108,
     "metadata": {},
     "output_type": "execute_result"
    }
   ],
   "source": [
    "view()"
   ]
  },
  {
   "cell_type": "code",
   "execution_count": 114,
   "id": "fce7a085",
   "metadata": {},
   "outputs": [],
   "source": [
    "def view3(n1,n2):\n",
    "    conn=sqlite3.connect('myoffice1.db')\n",
    "    cur=conn.cursor()\n",
    "    cur.execute('select*from myoff where name=? or name=?',(n1,n2))\n",
    "    rows=cur.fetchall()\n",
    "    conn.close()\n",
    "    return rows"
   ]
  },
  {
   "cell_type": "code",
   "execution_count": 115,
   "id": "e3598e2d",
   "metadata": {},
   "outputs": [
    {
     "data": {
      "text/plain": [
       "[(101, 'Ramesh', 9),\n",
       " (101, 'Ramesh', 9),\n",
       " (101, 'Ramesh', 9),\n",
       " (101, 'Ramesh', 9)]"
      ]
     },
     "execution_count": 115,
     "metadata": {},
     "output_type": "execute_result"
    }
   ],
   "source": [
    "view3('Ramesh','Basha')"
   ]
  },
  {
   "cell_type": "code",
   "execution_count": 117,
   "id": "bc40c9e6",
   "metadata": {},
   "outputs": [],
   "source": [
    "def view4():\n",
    "    conn=sqlite3.connect('myoffice1.db')\n",
    "    cur=conn.cursor()\n",
    "    cur.execute('SELECT rollno,gpa FROM myoff')\n",
    "    rows=cur.fetchall()\n",
    "    conn.close()\n",
    "    return rows"
   ]
  },
  {
   "cell_type": "code",
   "execution_count": 118,
   "id": "09a5b772",
   "metadata": {},
   "outputs": [
    {
     "data": {
      "text/plain": [
       "[(101, 9),\n",
       " (102, 8.9),\n",
       " (101, 9),\n",
       " (102, 8.9),\n",
       " (101, 9),\n",
       " (102, 8.9),\n",
       " (101, 9),\n",
       " (102, 8.9),\n",
       " (103, 9.6),\n",
       " (104, 7.2),\n",
       " (105, 9.2)]"
      ]
     },
     "execution_count": 118,
     "metadata": {},
     "output_type": "execute_result"
    }
   ],
   "source": [
    "view4()"
   ]
  },
  {
   "cell_type": "code",
   "execution_count": 5,
   "id": "912106a7",
   "metadata": {},
   "outputs": [],
   "source": [
    "#deleting data from a table\n",
    "def delete(r):\n",
    "    conn=sqlite3.connect('myoffice1.db')\n",
    "    cur=conn.cursor()\n",
    "    cur.execute('DELETE FROM myoff where rollno=?',(r,))\n",
    "    conn.commit()\n",
    "    conn.close()\n",
    "    "
   ]
  },
  {
   "cell_type": "code",
   "execution_count": 6,
   "id": "6b0936bc",
   "metadata": {},
   "outputs": [],
   "source": [
    "delete(101)"
   ]
  },
  {
   "cell_type": "code",
   "execution_count": 27,
   "id": "18ec2829",
   "metadata": {},
   "outputs": [
    {
     "data": {
      "text/plain": [
       "[(102, 'Suresh', 8.9),\n",
       " (102, 'Suresh', 8.9),\n",
       " (102, 'Suresh', 8.9),\n",
       " (102, 'Suresh', 8.9),\n",
       " (103, 'mahesh', 9.6),\n",
       " (104, 'dinesh', 7.2),\n",
       " (105, 'akilesh', 9.2)]"
      ]
     },
     "execution_count": 27,
     "metadata": {},
     "output_type": "execute_result"
    }
   ],
   "source": [
    "view()"
   ]
  },
  {
   "cell_type": "code",
   "execution_count": 28,
   "id": "10632bec",
   "metadata": {},
   "outputs": [],
   "source": [
    "con=sqlite3.connect('myoffice1.db')"
   ]
  },
  {
   "cell_type": "code",
   "execution_count": 29,
   "id": "f7c3c740",
   "metadata": {},
   "outputs": [],
   "source": [
    "cursorObj=con.cursor()"
   ]
  },
  {
   "cell_type": "code",
   "execution_count": 30,
   "id": "d59a17c7",
   "metadata": {},
   "outputs": [],
   "source": [
    "#update statement\n",
    "def update(r,g):\n",
    "    conn=sqlite3.connect(\"myoffice1.db\")\n",
    "    cur=conn.cursor()\n",
    "    cur.execute('UPDATE myoff SET gpa=? WHERE rollno=?',(g,r))\n",
    "    conn.commit()\n",
    "    conn.close()"
   ]
  },
  {
   "cell_type": "code",
   "execution_count": 31,
   "id": "5f7dc43a",
   "metadata": {},
   "outputs": [
    {
     "ename": "OperationalError",
     "evalue": "database is locked",
     "output_type": "error",
     "traceback": [
      "\u001b[1;31m---------------------------------------------------------------------------\u001b[0m",
      "\u001b[1;31mOperationalError\u001b[0m                          Traceback (most recent call last)",
      "Cell \u001b[1;32mIn[31], line 1\u001b[0m\n\u001b[1;32m----> 1\u001b[0m update(\u001b[38;5;241m104\u001b[39m,\u001b[38;5;241m6.5\u001b[39m)\n",
      "Cell \u001b[1;32mIn[30], line 6\u001b[0m, in \u001b[0;36mupdate\u001b[1;34m(r, g)\u001b[0m\n\u001b[0;32m      4\u001b[0m cur\u001b[38;5;241m=\u001b[39mconn\u001b[38;5;241m.\u001b[39mcursor()\n\u001b[0;32m      5\u001b[0m cur\u001b[38;5;241m.\u001b[39mexecute(\u001b[38;5;124m'\u001b[39m\u001b[38;5;124mUPDATE myoff SET gpa=? WHERE rollno=?\u001b[39m\u001b[38;5;124m'\u001b[39m,(g,r))\n\u001b[1;32m----> 6\u001b[0m conn\u001b[38;5;241m.\u001b[39mcommit()\n\u001b[0;32m      7\u001b[0m conn\u001b[38;5;241m.\u001b[39mclose()\n",
      "\u001b[1;31mOperationalError\u001b[0m: database is locked"
     ]
    }
   ],
   "source": [
    "update(104,6.5)"
   ]
  },
  {
   "cell_type": "code",
   "execution_count": null,
   "id": "d2aa6396",
   "metadata": {},
   "outputs": [],
   "source": []
  }
 ],
 "metadata": {
  "kernelspec": {
   "display_name": "Python 3 (ipykernel)",
   "language": "python",
   "name": "python3"
  },
  "language_info": {
   "codemirror_mode": {
    "name": "ipython",
    "version": 3
   },
   "file_extension": ".py",
   "mimetype": "text/x-python",
   "name": "python",
   "nbconvert_exporter": "python",
   "pygments_lexer": "ipython3",
   "version": "3.11.3"
  }
 },
 "nbformat": 4,
 "nbformat_minor": 5
}
